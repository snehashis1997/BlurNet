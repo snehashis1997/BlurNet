{
 "cells": [
  {
   "cell_type": "markdown",
   "metadata": {},
   "source": [
    "## Import libraries"
   ]
  },
  {
   "cell_type": "code",
   "execution_count": 1,
   "metadata": {
    "_cell_guid": "b1076dfc-b9ad-4769-8c92-a6c4dae69d19",
    "_uuid": "8f2839f25d086af736a60e9eeb907d3b93b6e0e5",
    "execution": {
     "iopub.execute_input": "2020-09-17T20:40:50.029726Z",
     "iopub.status.busy": "2020-09-17T20:40:50.028926Z",
     "iopub.status.idle": "2020-09-17T20:40:58.163815Z",
     "shell.execute_reply": "2020-09-17T20:40:58.164707Z"
    },
    "papermill": {
     "duration": 8.177736,
     "end_time": "2020-09-17T20:40:58.164916",
     "exception": false,
     "start_time": "2020-09-17T20:40:49.987180",
     "status": "completed"
    },
    "tags": []
   },
   "outputs": [],
   "source": [
    "# This Python 3 environment comes with many helpful analytics libraries installed\n",
    "# It is defined by the kaggle/python docker image: https://github.com/kaggle/docker-python\n",
    "# For example, here's several helpful packages to load in \n",
    "\n",
    "import numpy as np # linear algebra\n",
    "import pandas as pd # data processing, CSV file I/O (e.g. pd.read_csv)\n",
    "from scipy.signal import convolve\n",
    "# Input data files are available in the \"../input/\" directory.\n",
    "# For example, running this (by clicking run or pressing Shift+Enter) will list the files in the input directory\n",
    "import matplotlib.pyplot as plt\n",
    "import cv2\n",
    "from subprocess import check_output\n",
    "from tensorflow.keras.utils import to_categorical\n",
    "from matplotlib import pyplot as plt\n",
    "import tensorflow \n",
    "import cv2\n",
    "import numpy as np\n",
    "import pandas as pd\n",
    "from sklearn.model_selection import train_test_split\n",
    "import seaborn as sns\n",
    "#import keras\n",
    "from tensorflow.keras.models import Sequential\n",
    "from tensorflow.keras.layers import Dense, Dropout, Flatten\n",
    "from tensorflow.keras.layers import Conv2D, MaxPooling2D\n",
    "from tensorflow.keras.layers import BatchNormalization\n",
    "from tensorflow.keras.callbacks import EarlyStopping\n",
    "from tensorflow.keras.callbacks import LearningRateScheduler\n",
    "# load and evaluate a saved model\n",
    "from numpy import loadtxt\n",
    "from tensorflow.keras import regularizers\n",
    "from tensorflow.keras.models import load_model\n",
    "#print(check_output([\"ls\", \"../input\"]).decode(\"utf8\"))\n",
    "\n",
    "# Any results you write to the current directory are saved as output."
   ]
  },
  {
   "cell_type": "code",
   "execution_count": 2,
   "metadata": {
    "execution": {
     "iopub.execute_input": "2020-09-17T20:40:58.237231Z",
     "iopub.status.busy": "2020-09-17T20:40:58.236190Z",
     "iopub.status.idle": "2020-09-17T20:40:58.239591Z",
     "shell.execute_reply": "2020-09-17T20:40:58.238955Z"
    },
    "papermill": {
     "duration": 0.04184,
     "end_time": "2020-09-17T20:40:58.239703",
     "exception": false,
     "start_time": "2020-09-17T20:40:58.197863",
     "status": "completed"
    },
    "tags": []
   },
   "outputs": [],
   "source": [
    "def scheduler(epoch, lr):\n",
    "...   if epoch < 10:\n",
    "...     return lr\n",
    "...   else:\n",
    "...     return float(lr * tensorflow.math.exp(-0.1))"
   ]
  },
  {
   "cell_type": "code",
   "execution_count": 3,
   "metadata": {
    "execution": {
     "iopub.execute_input": "2020-09-17T20:40:58.327271Z",
     "iopub.status.busy": "2020-09-17T20:40:58.316895Z",
     "iopub.status.idle": "2020-09-17T20:40:58.340728Z",
     "shell.execute_reply": "2020-09-17T20:40:58.340165Z"
    },
    "papermill": {
     "duration": 0.070159,
     "end_time": "2020-09-17T20:40:58.340845",
     "exception": false,
     "start_time": "2020-09-17T20:40:58.270686",
     "status": "completed"
    },
    "tags": []
   },
   "outputs": [],
   "source": [
    "def non_max_suppression(img, D):\n",
    "    M, N = img.shape\n",
    "    Z = np.zeros((M,N), dtype=np.int32)\n",
    "    angle = D * 180. / np.pi\n",
    "    angle[angle < 0] += 180\n",
    "    for i in range(1,M-1):\n",
    "        for j in range(1,N-1):\n",
    "            try:\n",
    "                q = 255\n",
    "                r = 255\n",
    "             #angle 0\n",
    "                if (0 <= angle[i,j] < 22.5) or (157.5 <= angle[i,j] <= 180):\n",
    "                    q = img[i, j+1]\n",
    "                    r = img[i, j-1]\n",
    "             #angle 45\n",
    "                elif (22.5 <= angle[i,j] < 67.5):\n",
    "                    q = img[i+1, j-1]\n",
    "                    r = img[i-1, j+1]\n",
    "             #angle 90\n",
    "                elif (67.5 <= angle[i,j] < 112.5):\n",
    "                    q = img[i+1, j]\n",
    "                    r = img[i-1, j]\n",
    "             #angle 135\n",
    "                elif (112.5 <= angle[i,j] < 157.5):\n",
    "                    q = img[i-1, j-1]\n",
    "                    r = img[i+1, j+1]\n",
    "                if (img[i,j] >= q) and (img[i,j] >= r):\n",
    "                    Z[i,j] = img[i,j]\n",
    "                else:\n",
    "                    Z[i,j] = 0\n",
    "            except IndexError as e:\n",
    "                 pass\n",
    "    return Z\n",
    "\n",
    "def threshold(img, lowThresholdRatio=0.05, highThresholdRatio=0.09):\n",
    "    highThreshold = img.max() * highThresholdRatio;\n",
    "    lowThreshold = highThreshold * lowThresholdRatio;\n",
    "    M, N = img.shape\n",
    "    res = np.zeros((M,N), dtype=np.int32)\n",
    "    weak = np.int32(25)\n",
    "    strong = np.int32(255)\n",
    "    strong_i, strong_j = np.where(img >= highThreshold)\n",
    "    zeros_i, zeros_j = np.where(img < lowThreshold)\n",
    "    weak_i, weak_j = np.where((img <= highThreshold) & (img >= lowThreshold))\n",
    "    res[strong_i, strong_j] = strong\n",
    "    res[weak_i, weak_j] = weak\n",
    "    \n",
    "    return (res, weak, strong)\n",
    "\n",
    "def hysteresis(img, weak, strong=255):\n",
    "    M, N = img.shape\n",
    "    for i in range(1, M-1):\n",
    "        for j in range(1, N-1):\n",
    "            if (img[i,j] == weak):\n",
    "                try:\n",
    "                    if ((img[i+1, j-1] == strong) or (img[i+1, j] == strong) or (img[i+1, j+1] == strong) or (img[i, j-1] == strong) or (img[i, j+1] == strong)\n",
    "                            or (img[i-1, j-1] == strong) or (img[i-1, j] == strong) or (img[i-1, j+1] == strong)):\n",
    "                        img[i, j] = strong\n",
    "                    else:\n",
    "                        img[i, j] = 0\n",
    "                except IndexError as e:\n",
    "                    pass\n",
    "    return img"
   ]
  },
  {
   "cell_type": "code",
   "execution_count": 4,
   "metadata": {
    "execution": {
     "iopub.execute_input": "2020-09-17T20:40:58.420235Z",
     "iopub.status.busy": "2020-09-17T20:40:58.419228Z",
     "iopub.status.idle": "2020-09-17T20:40:58.422558Z",
     "shell.execute_reply": "2020-09-17T20:40:58.421968Z"
    },
    "papermill": {
     "duration": 0.049847,
     "end_time": "2020-09-17T20:40:58.422689",
     "exception": false,
     "start_time": "2020-09-17T20:40:58.372842",
     "status": "completed"
    },
    "tags": []
   },
   "outputs": [],
   "source": [
    "thre = 100\n",
    "\n",
    "def blurry(image):\n",
    "    #img = cv2.cvtColor(img, cv2.COLOR_BGR2GRAY)\n",
    "    image = cv2.resize(image,(28,28))\n",
    "    #print(image.shape)\n",
    "    return cv2.Laplacian(image, cv2.CV_32F).var()\n",
    "\n",
    "def preprocessing(img):\n",
    "    img = img.astype(np.float32)\n",
    "    t = blurry(img)\n",
    "    #print(t)\n",
    "    if t > thre:\n",
    "        img = img.astype(np.uint8)\n",
    "        edges = cv2.Canny(img,100,200)\n",
    "    else:\n",
    "        Kx = np.array([[-1, 0, 1], [-2, 0, 2], [-1, 0, 1]])\n",
    "        Ky = np.array([[1, 2, 1], [0, 0, 0], [-1, -2, -1]])\n",
    "        #Calculate of x,y gradient\n",
    "        Ix = convolve(img, Kx)\n",
    "        Iy = convolve(img, Ky)\n",
    "    #Calculate normalized gradient magnitude and theta\n",
    "        g = np.hypot(Ix, Iy)\n",
    "    #G = G / G.max() * 255\n",
    "        theta = np.arctan2(Iy, Ix)\n",
    "    #return (G, theta)\n",
    "        nms = non_max_suppression(g,theta)\n",
    "        #print(nms)\n",
    "        edge,weak,strong = threshold(nms)\n",
    "        #print(weak)\n",
    "        edges = hysteresis(edge,weak=weak)\n",
    "        #edges = edges > 100\n",
    "\n",
    "    edges = edges.astype(np.float64)\n",
    "    edges = cv2.resize(edges,(28,28))\n",
    "    #edges = edges > 50\n",
    "    return edges"
   ]
  },
  {
   "cell_type": "code",
   "execution_count": 5,
   "metadata": {
    "_cell_guid": "79c7e3d0-c299-4dcb-8224-4455121ee9b0",
    "_uuid": "d629ff2d2480ee46fbb7e2d37f6b5fab8052498a",
    "execution": {
     "iopub.execute_input": "2020-09-17T20:40:58.501325Z",
     "iopub.status.busy": "2020-09-17T20:40:58.500618Z",
     "iopub.status.idle": "2020-09-17T20:41:10.450393Z",
     "shell.execute_reply": "2020-09-17T20:41:10.449607Z"
    },
    "papermill": {
     "duration": 11.996887,
     "end_time": "2020-09-17T20:41:10.450575",
     "exception": false,
     "start_time": "2020-09-17T20:40:58.453688",
     "status": "completed"
    },
    "tags": []
   },
   "outputs": [],
   "source": [
    "data_train = pd.read_csv(r'E:\\fashion mnist/fashion-mnist_train.csv')\n",
    "data_test = pd.read_csv(r'E:\\fashion mnist/fashion-mnist_train.csv')\n",
    "\n",
    "img_rows, img_cols = 28, 28\n",
    "input_shape = (img_rows, img_cols, 1)\n",
    "\n",
    "X = np.array(data_train.iloc[:, 1:])\n",
    "y = to_categorical(np.array(data_train.iloc[:, 0]))\n",
    "\n",
    "#Here we split validation data to optimiza classifier during training\n",
    "X_train, X_val, y_train, y_val = train_test_split(X, y, test_size=0.2, random_state=13)\n",
    "\n",
    "#Test data\n",
    "X_test = np.array(data_test.iloc[:, 1:])\n",
    "y_test = to_categorical(np.array(data_test.iloc[:, 0]))"
   ]
  },
  {
   "cell_type": "code",
   "execution_count": 6,
   "metadata": {
    "execution": {
     "iopub.execute_input": "2020-09-17T20:41:10.523120Z",
     "iopub.status.busy": "2020-09-17T20:41:10.522381Z",
     "iopub.status.idle": "2020-09-17T20:41:10.738646Z",
     "shell.execute_reply": "2020-09-17T20:41:10.739274Z"
    },
    "papermill": {
     "duration": 0.251242,
     "end_time": "2020-09-17T20:41:10.739460",
     "exception": false,
     "start_time": "2020-09-17T20:41:10.488218",
     "status": "completed"
    },
    "tags": []
   },
   "outputs": [
    {
     "data": {
      "image/png": "[encoded data removed]",
      "text/plain": [
       "<Figure size 432x288 with 1 Axes>"
      ]
     },
     "metadata": {
      "needs_background": "light"
     },
     "output_type": "display_data"
    }
   ],
   "source": [
    "plt.imshow(X_val[1].reshape(28,28));"
   ]
  },
  {
   "cell_type": "code",
   "execution_count": 7,
   "metadata": {
    "execution": {
     "iopub.execute_input": "2020-09-17T20:41:10.814746Z",
     "iopub.status.busy": "2020-09-17T20:41:10.813991Z",
     "iopub.status.idle": "2020-09-17T20:41:11.011444Z",
     "shell.execute_reply": "2020-09-17T20:41:11.010814Z"
    },
    "papermill": {
     "duration": 0.238236,
     "end_time": "2020-09-17T20:41:11.011577",
     "exception": false,
     "start_time": "2020-09-17T20:41:10.773341",
     "status": "completed"
    },
    "tags": []
   },
   "outputs": [
    {
     "data": {
      "image/png": "[encoded data removed]",
      "text/plain": [
       "<Figure size 432x288 with 1 Axes>"
      ]
     },
     "metadata": {
      "needs_background": "light"
     },
     "output_type": "display_data"
    }
   ],
   "source": [
    "edge = preprocessing(X_val[1].reshape(28,28))\n",
    "#print(edge.shape)\n",
    "plt.imshow(edge);\n",
    "#np.unique(edge.flatten())"
   ]
  },
  {
   "cell_type": "code",
   "execution_count": 8,
   "metadata": {
    "execution": {
     "iopub.execute_input": "2020-09-17T20:41:11.084936Z",
     "iopub.status.busy": "2020-09-17T20:41:11.084012Z",
     "iopub.status.idle": "2020-09-17T20:41:11.087798Z",
     "shell.execute_reply": "2020-09-17T20:41:11.088373Z"
    },
    "papermill": {
     "duration": 0.041776,
     "end_time": "2020-09-17T20:41:11.088516",
     "exception": false,
     "start_time": "2020-09-17T20:41:11.046740",
     "status": "completed"
    },
    "tags": []
   },
   "outputs": [
    {
     "data": {
      "text/plain": [
       "(7, 9)"
      ]
     },
     "execution_count": 8,
     "metadata": {},
     "output_type": "execute_result"
    }
   ],
   "source": [
    "np.argmax(y_train[0], axis=0),np.argmax(y_train[1], axis=0)"
   ]
  },
  {
   "cell_type": "code",
   "execution_count": 9,
   "metadata": {
    "execution": {
     "iopub.execute_input": "2020-09-17T20:41:11.177741Z",
     "iopub.status.busy": "2020-09-17T20:41:11.176763Z",
     "iopub.status.idle": "2020-09-17T20:41:11.183580Z",
     "shell.execute_reply": "2020-09-17T20:41:11.182958Z"
    },
    "papermill": {
     "duration": 0.056808,
     "end_time": "2020-09-17T20:41:11.183694",
     "exception": false,
     "start_time": "2020-09-17T20:41:11.126886",
     "status": "completed"
    },
    "tags": []
   },
   "outputs": [
    {
     "data": {
      "text/plain": [
       "array([ 2,  3,  6, 11, 13,  4,  5,  0,  8,  1], dtype=int64)"
      ]
     },
     "execution_count": 9,
     "metadata": {},
     "output_type": "execute_result"
    }
   ],
   "source": [
    "np.argmax((y_train), axis=0)"
   ]
  },
  {
   "cell_type": "code",
   "execution_count": 10,
   "metadata": {
    "execution": {
     "iopub.execute_input": "2020-09-17T20:41:11.254797Z",
     "iopub.status.busy": "2020-09-17T20:41:11.253881Z",
     "iopub.status.idle": "2020-09-17T20:41:11.257009Z",
     "shell.execute_reply": "2020-09-17T20:41:11.256506Z"
    },
    "papermill": {
     "duration": 0.041042,
     "end_time": "2020-09-17T20:41:11.257133",
     "exception": false,
     "start_time": "2020-09-17T20:41:11.216091",
     "status": "completed"
    },
    "tags": []
   },
   "outputs": [],
   "source": [
    "temp_img1 = X_train[0]\n",
    "temp_y1 = y_train[0]\n",
    "\n",
    "temp_img2 = X_train[1]\n",
    "temp_y2 = y_train[1]"
   ]
  },
  {
   "cell_type": "code",
   "execution_count": 11,
   "metadata": {
    "execution": {
     "iopub.execute_input": "2020-09-17T20:41:11.334581Z",
     "iopub.status.busy": "2020-09-17T20:41:11.333626Z",
     "iopub.status.idle": "2020-09-17T20:41:11.337810Z",
     "shell.execute_reply": "2020-09-17T20:41:11.337216Z"
    },
    "papermill": {
     "duration": 0.047296,
     "end_time": "2020-09-17T20:41:11.337906",
     "exception": false,
     "start_time": "2020-09-17T20:41:11.290610",
     "status": "completed"
    },
    "tags": []
   },
   "outputs": [
    {
     "data": {
      "text/plain": [
       "(784,)"
      ]
     },
     "execution_count": 11,
     "metadata": {},
     "output_type": "execute_result"
    }
   ],
   "source": [
    "temp_img2.shape"
   ]
  },
  {
   "cell_type": "code",
   "execution_count": 12,
   "metadata": {
    "execution": {
     "iopub.execute_input": "2020-09-17T20:41:11.416992Z",
     "iopub.status.busy": "2020-09-17T20:41:11.416114Z",
     "iopub.status.idle": "2020-09-17T20:41:11.600481Z",
     "shell.execute_reply": "2020-09-17T20:41:11.600939Z"
    },
    "papermill": {
     "duration": 0.228299,
     "end_time": "2020-09-17T20:41:11.601098",
     "exception": false,
     "start_time": "2020-09-17T20:41:11.372799",
     "status": "completed"
    },
    "tags": []
   },
   "outputs": [],
   "source": [
    "prev_lab = []\n",
    "for i in range(y_train.shape[0]):\n",
    "    prev_lab.append(np.argmax(y_train[i], axis=0))    "
   ]
  },
  {
   "cell_type": "code",
   "execution_count": 13,
   "metadata": {
    "execution": {
     "iopub.execute_input": "2020-09-17T20:41:11.690019Z",
     "iopub.status.busy": "2020-09-17T20:41:11.689147Z",
     "iopub.status.idle": "2020-09-17T20:41:11.979798Z",
     "shell.execute_reply": "2020-09-17T20:41:11.980698Z"
    },
    "papermill": {
     "duration": 0.346598,
     "end_time": "2020-09-17T20:41:11.980955",
     "exception": false,
     "start_time": "2020-09-17T20:41:11.634357",
     "status": "completed"
    },
    "tags": []
   },
   "outputs": [
    {
     "data": {
      "image/png": "[encoded data removed]",
      "text/plain": [
       "<Figure size 432x288 with 1 Axes>"
      ]
     },
     "metadata": {
      "needs_background": "light"
     },
     "output_type": "display_data"
    }
   ],
   "source": [
    "sns.countplot(prev_lab);"
   ]
  },
  {
   "cell_type": "markdown",
   "metadata": {
    "papermill": {
     "duration": 0.052406,
     "end_time": "2020-09-17T20:41:12.089487",
     "exception": false,
     "start_time": "2020-09-17T20:41:12.037081",
     "status": "completed"
    },
    "tags": []
   },
   "source": [
    "0 class imbalanced\n",
    "1 class imbalanced\n",
    "\n",
    "0: T-shirt/top\n",
    "1: Trouser"
   ]
  },
  {
   "cell_type": "code",
   "execution_count": 14,
   "metadata": {
    "execution": {
     "iopub.execute_input": "2020-09-17T20:41:12.175475Z",
     "iopub.status.busy": "2020-09-17T20:41:12.174542Z",
     "iopub.status.idle": "2020-09-17T20:41:12.493292Z",
     "shell.execute_reply": "2020-09-17T20:41:12.493954Z"
    },
    "papermill": {
     "duration": 0.366713,
     "end_time": "2020-09-17T20:41:12.494156",
     "exception": false,
     "start_time": "2020-09-17T20:41:12.127443",
     "status": "completed"
    },
    "tags": []
   },
   "outputs": [
    {
     "name": "stdout",
     "output_type": "stream",
     "text": [
      "done\n",
      "done\n"
     ]
    }
   ],
   "source": [
    "c = 0\n",
    "\n",
    "for i in range(X_train.shape[0]):\n",
    "    if np.argmax(y_train[i], axis=0) == 0:\n",
    "        X_train[i] = temp_img1\n",
    "        y_train[i] = temp_y1\n",
    "        c = c + 1\n",
    "        #print(str(c) + \" \" + str(i))\n",
    "        if (c == 3300):\n",
    "            print(\"done\")\n",
    "            break\n",
    "        else:\n",
    "            pass\n",
    "\n",
    "c = 0\n",
    "\n",
    "for i in range(X_train.shape[0]):\n",
    "    if np.argmax(y_train[i], axis=0) == 1:\n",
    "        X_train[i] = temp_img2\n",
    "        y_train[i] = temp_y2\n",
    "        c = c + 1\n",
    "        #print(str(c) + \" \" + str(i))\n",
    "        if (c == 3300):\n",
    "            print(\"done\")\n",
    "\n",
    "            break\n",
    "        else:\n",
    "            pass"
   ]
  },
  {
   "cell_type": "code",
   "execution_count": 15,
   "metadata": {
    "execution": {
     "iopub.execute_input": "2020-09-17T20:41:12.587626Z",
     "iopub.status.busy": "2020-09-17T20:41:12.586540Z",
     "iopub.status.idle": "2020-09-17T20:41:12.797422Z",
     "shell.execute_reply": "2020-09-17T20:41:12.798050Z"
    },
    "papermill": {
     "duration": 0.259496,
     "end_time": "2020-09-17T20:41:12.798225",
     "exception": false,
     "start_time": "2020-09-17T20:41:12.538729",
     "status": "completed"
    },
    "tags": []
   },
   "outputs": [],
   "source": [
    "pre_lab = []\n",
    "for i in range(y_train.shape[0]):\n",
    "    pre_lab.append(np.argmax(y_train[i], axis=0))  "
   ]
  },
  {
   "cell_type": "code",
   "execution_count": 16,
   "metadata": {
    "execution": {
     "iopub.execute_input": "2020-09-17T20:41:12.896316Z",
     "iopub.status.busy": "2020-09-17T20:41:12.895426Z",
     "iopub.status.idle": "2020-09-17T20:41:13.193146Z",
     "shell.execute_reply": "2020-09-17T20:41:13.194103Z"
    },
    "papermill": {
     "duration": 0.356449,
     "end_time": "2020-09-17T20:41:13.194341",
     "exception": false,
     "start_time": "2020-09-17T20:41:12.837892",
     "status": "completed"
    },
    "tags": []
   },
   "outputs": [
    {
     "data": {
      "image/png": "[encoded data removed]",
      "text/plain": [
       "<Figure size 432x288 with 1 Axes>"
      ]
     },
     "metadata": {
      "needs_background": "light"
     },
     "output_type": "display_data"
    }
   ],
   "source": [
    "sns.countplot(pre_lab);"
   ]
  },
  {
   "cell_type": "code",
   "execution_count": 17,
   "metadata": {
    "execution": {
     "iopub.execute_input": "2020-09-17T20:41:13.292369Z",
     "iopub.status.busy": "2020-09-17T20:41:13.285429Z",
     "iopub.status.idle": "2020-09-17T20:41:31.831760Z",
     "shell.execute_reply": "2020-09-17T20:41:31.830742Z"
    },
    "papermill": {
     "duration": 18.597196,
     "end_time": "2020-09-17T20:41:31.831889",
     "exception": false,
     "start_time": "2020-09-17T20:41:13.234693",
     "status": "completed"
    },
    "tags": []
   },
   "outputs": [],
   "source": [
    "X_train = X_train.reshape(X_train.shape[0], img_rows, img_cols, 1)\n",
    "X_test = X_test.reshape(X_test.shape[0], img_rows, img_cols, 1)\n",
    "X_val = X_val.reshape(X_val.shape[0], img_rows, img_cols, 1)\n",
    "\n",
    "temp = X_test.copy()\n",
    "blurry_x = temp[:100]\n",
    "not_blurry_x = temp[:100]\n",
    "\n",
    "for i in range(int(0.4*X_train.shape[0])):\n",
    "    img = X_train[i]\n",
    "    img = img.astype('float32')\n",
    "    img = np.reshape(img,(28,28))\n",
    "    img = cv2.GaussianBlur(img,(5,5),1)\n",
    "    img = img.reshape(28,28,1)\n",
    "    X_train[i] = img\n",
    "\n",
    "for i in range(int(0.4*X_val.shape[0])):\n",
    "    img = X_val[i]\n",
    "    img = np.reshape(img,(28,28))\n",
    "    img = img.astype('float32')\n",
    "    img = cv2.GaussianBlur(img,(5,5),1)\n",
    "    img = img.reshape(28,28,1)\n",
    "    X_val[i] = img\n",
    "    \n",
    "for i in range(X_train.shape[0]):\n",
    "    img = preprocessing(X_train[i].reshape(28,28))\n",
    "    img = img.reshape(28,28,1)\n",
    "    X_train[i] = img\n",
    "\n",
    "for i in range(X_val.shape[0]):\n",
    "    img = preprocessing(X_val[i].reshape(28,28))\n",
    "    img = img.reshape(28,28,1)\n",
    "    X_val[i] = img\n",
    "\n",
    "for i in range(X_test.shape[0]):\n",
    "    img = preprocessing(X_test[i].reshape(28,28))\n",
    "    img = img.reshape(28,28,1)\n",
    "    X_test[i] = img\n",
    "\n",
    "\n",
    "test_y = y_test[:100]\n",
    "\n",
    "X_train = X_train.astype('float32')\n",
    "X_test = X_test.astype('float32')\n",
    "X_val = X_val.astype('float32')\n",
    "X_train /= 255\n",
    "X_test /= 255\n",
    "X_val /= 255"
   ]
  },
  {
   "cell_type": "code",
   "execution_count": 18,
   "metadata": {
    "execution": {
     "iopub.execute_input": "2020-09-17T20:41:31.922179Z",
     "iopub.status.busy": "2020-09-17T20:41:31.921013Z",
     "iopub.status.idle": "2020-09-17T20:41:32.080298Z",
     "shell.execute_reply": "2020-09-17T20:41:32.080865Z"
    },
    "papermill": {
     "duration": 0.211018,
     "end_time": "2020-09-17T20:41:32.081013",
     "exception": false,
     "start_time": "2020-09-17T20:41:31.869995",
     "status": "completed"
    },
    "tags": []
   },
   "outputs": [
    {
     "data": {
      "image/png": "[encoded data removed]",
      "text/plain": [
       "<Figure size 432x288 with 1 Axes>"
      ]
     },
     "metadata": {
      "needs_background": "light"
     },
     "output_type": "display_data"
    }
   ],
   "source": [
    "plt.imshow(not_blurry_x[0].reshape(28,28));"
   ]
  },
  {
   "cell_type": "code",
   "execution_count": null,
   "metadata": {
    "papermill": {
     "duration": 0.041941,
     "end_time": "2020-09-17T20:41:32.164608",
     "exception": false,
     "start_time": "2020-09-17T20:41:32.122667",
     "status": "completed"
    },
    "tags": []
   },
   "outputs": [],
   "source": []
  },
  {
   "cell_type": "code",
   "execution_count": 19,
   "metadata": {
    "execution": {
     "iopub.execute_input": "2020-09-17T20:41:32.253796Z",
     "iopub.status.busy": "2020-09-17T20:41:32.247686Z",
     "iopub.status.idle": "2020-09-17T20:41:32.403484Z",
     "shell.execute_reply": "2020-09-17T20:41:32.404079Z"
    },
    "papermill": {
     "duration": 0.200277,
     "end_time": "2020-09-17T20:41:32.404232",
     "exception": false,
     "start_time": "2020-09-17T20:41:32.203955",
     "status": "completed"
    },
    "tags": []
   },
   "outputs": [
    {
     "data": {
      "image/png": "[encoded data removed]",
      "text/plain": [
       "<Figure size 432x288 with 1 Axes>"
      ]
     },
     "metadata": {
      "needs_background": "light"
     },
     "output_type": "display_data"
    }
   ],
   "source": [
    "plt.imshow(X_val[1].reshape((28,28)));"
   ]
  },
  {
   "cell_type": "code",
   "execution_count": 20,
   "metadata": {
    "execution": {
     "iopub.execute_input": "2020-09-17T20:41:32.494520Z",
     "iopub.status.busy": "2020-09-17T20:41:32.493468Z",
     "iopub.status.idle": "2020-09-17T20:41:32.649414Z",
     "shell.execute_reply": "2020-09-17T20:41:32.650016Z"
    },
    "papermill": {
     "duration": 0.203346,
     "end_time": "2020-09-17T20:41:32.650183",
     "exception": false,
     "start_time": "2020-09-17T20:41:32.446837",
     "status": "completed"
    },
    "tags": []
   },
   "outputs": [
    {
     "data": {
      "text/plain": [
       "<matplotlib.image.AxesImage at 0x276b8c07208>"
      ]
     },
     "execution_count": 20,
     "metadata": {},
     "output_type": "execute_result"
    },
    {
     "data": {
      "image/png": "[encoded data removed]",
      "text/plain": [
       "<Figure size 432x288 with 1 Axes>"
      ]
     },
     "metadata": {
      "needs_background": "light"
     },
     "output_type": "display_data"
    }
   ],
   "source": [
    "img = preprocessing(X_val[1000].reshape(28,28))\n",
    "plt.imshow(X_val[100].reshape(28,28))"
   ]
  },
  {
   "cell_type": "code",
   "execution_count": 21,
   "metadata": {
    "execution": {
     "iopub.execute_input": "2020-09-17T20:41:32.751382Z",
     "iopub.status.busy": "2020-09-17T20:41:32.750322Z",
     "iopub.status.idle": "2020-09-17T20:41:32.922240Z",
     "shell.execute_reply": "2020-09-17T20:41:32.922943Z"
    },
    "papermill": {
     "duration": 0.228645,
     "end_time": "2020-09-17T20:41:32.923100",
     "exception": false,
     "start_time": "2020-09-17T20:41:32.694455",
     "status": "completed"
    },
    "tags": []
   },
   "outputs": [
    {
     "name": "stdout",
     "output_type": "stream",
     "text": [
      "(30, 30)\n"
     ]
    },
    {
     "data": {
      "image/png": "[encoded data removed]",
      "text/plain": [
       "<Figure size 432x288 with 1 Axes>"
      ]
     },
     "metadata": {
      "needs_background": "light"
     },
     "output_type": "display_data"
    }
   ],
   "source": [
    "#edge = preprocessing(X_val[1].reshape(28,28))\n",
    "img = X_val[90].reshape(28,28)\n",
    "\n",
    "Kx = np.array([[-1, 0, 1], [-2, 0, 2], [-1, 0, 1]])\n",
    "Ky = np.array([[1, 2, 1], [0, 0, 0], [-1, -2, -1]])\n",
    "#Calculate of x,y gradient\n",
    "Ix = convolve(img, Kx)\n",
    "Iy = convolve(img, Ky)\n",
    "#Calculate normalized gradient magnitude and theta\n",
    "g = np.hypot(Ix, Iy)\n",
    "#G = G / G.max() * 255\n",
    "theta = np.arctan2(Iy, Ix)\n",
    "#return (G, theta)\n",
    "#Gradient,theta = sobel_filters(img_name)\n",
    "nms = non_max_suppression(g,theta)\n",
    "edge,weak,strong = threshold(nms)\n",
    "hyst = hysteresis(edge,weak=weak)\n",
    "#hyst = cv2.resize(hyst,(28,28))\n",
    "print(hyst.shape)\n",
    "plt.imshow(hyst);"
   ]
  },
  {
   "cell_type": "code",
   "execution_count": null,
   "metadata": {
    "papermill": {
     "duration": 0.039721,
     "end_time": "2020-09-17T20:41:33.004850",
     "exception": false,
     "start_time": "2020-09-17T20:41:32.965129",
     "status": "completed"
    },
    "tags": []
   },
   "outputs": [],
   "source": []
  },
  {
   "cell_type": "code",
   "execution_count": 22,
   "metadata": {
    "execution": {
     "iopub.execute_input": "2020-09-17T20:41:33.098140Z",
     "iopub.status.busy": "2020-09-17T20:41:33.097431Z",
     "iopub.status.idle": "2020-09-17T20:41:36.360269Z",
     "shell.execute_reply": "2020-09-17T20:41:36.359436Z"
    },
    "papermill": {
     "duration": 3.315452,
     "end_time": "2020-09-17T20:41:36.360441",
     "exception": false,
     "start_time": "2020-09-17T20:41:33.044989",
     "status": "completed"
    },
    "tags": []
   },
   "outputs": [
    {
     "name": "stdout",
     "output_type": "stream",
     "text": [
      "WARNING:tensorflow:From C:\\Users\\user\\Anaconda32\\lib\\site-packages\\tensorflow\\python\\ops\\init_ops.py:1251: calling VarianceScaling.__init__ (from tensorflow.python.ops.init_ops) with dtype is deprecated and will be removed in a future version.\n",
      "Instructions for updating:\n",
      "Call initializer instance with the dtype argument instead of passing it to the constructor\n",
      "Model: \"sequential\"\n",
      "_________________________________________________________________\n",
      "Layer (type)                 Output Shape              Param #   \n",
      "=================================================================\n",
      "conv2d (Conv2D)              (None, 26, 26, 32)        320       \n",
      "_________________________________________________________________\n",
      "max_pooling2d (MaxPooling2D) (None, 13, 13, 32)        0         \n",
      "_________________________________________________________________\n",
      "batch_normalization (BatchNo (None, 13, 13, 32)        128       \n",
      "_________________________________________________________________\n",
      "dropout (Dropout)            (None, 13, 13, 32)        0         \n",
      "_________________________________________________________________\n",
      "conv2d_1 (Conv2D)            (None, 11, 11, 64)        18496     \n",
      "_________________________________________________________________\n",
      "max_pooling2d_1 (MaxPooling2 (None, 5, 5, 64)          0         \n",
      "_________________________________________________________________\n",
      "batch_normalization_1 (Batch (None, 5, 5, 64)          256       \n",
      "_________________________________________________________________\n",
      "dropout_1 (Dropout)          (None, 5, 5, 64)          0         \n",
      "_________________________________________________________________\n",
      "conv2d_2 (Conv2D)            (None, 3, 3, 128)         73856     \n",
      "_________________________________________________________________\n",
      "batch_normalization_2 (Batch (None, 3, 3, 128)         512       \n",
      "_________________________________________________________________\n",
      "dropout_2 (Dropout)          (None, 3, 3, 128)         0         \n",
      "_________________________________________________________________\n",
      "flatten (Flatten)            (None, 1152)              0         \n",
      "_________________________________________________________________\n",
      "dense (Dense)                (None, 128)               147584    \n",
      "_________________________________________________________________\n",
      "batch_normalization_3 (Batch (None, 128)               512       \n",
      "_________________________________________________________________\n",
      "dropout_3 (Dropout)          (None, 128)               0         \n",
      "_________________________________________________________________\n",
      "dense_1 (Dense)              (None, 10)                1290      \n",
      "=================================================================\n",
      "Total params: 242,954\n",
      "Trainable params: 242,250\n",
      "Non-trainable params: 704\n",
      "_________________________________________________________________\n"
     ]
    }
   ],
   "source": [
    "\n",
    "\n",
    "\n",
    "batch_size = 256\n",
    "num_classes = 10\n",
    "epochs = 50\n",
    "\n",
    "#input image dimensions\n",
    "img_rows, img_cols = 28, 28\n",
    "\n",
    "model = Sequential()\n",
    "model.add(Conv2D(32, kernel_size=(3, 3),\n",
    "                 activation='relu',\n",
    "                 kernel_initializer='he_normal',\n",
    "                 input_shape=input_shape))\n",
    "model.add(MaxPooling2D((2, 2)))\n",
    "model.add(BatchNormalization())\n",
    "model.add(Dropout(0.25))\n",
    "model.add(Conv2D(64, (3, 3), activation='relu'))\n",
    "model.add(MaxPooling2D(pool_size=(2, 2)))\n",
    "model.add(BatchNormalization())\n",
    "model.add(Dropout(0.25))\n",
    "model.add(Conv2D(128, (3, 3), activation='relu'))\n",
    "model.add(BatchNormalization())\n",
    "model.add(Dropout(0.4))\n",
    "model.add(Flatten())\n",
    "model.add(Dense(128, activation='relu'))\n",
    "model.add(BatchNormalization())\n",
    "model.add(Dropout(0.3))\n",
    "model.add(Dense(num_classes, activation='softmax'))\n",
    "\n",
    "model.compile(loss=tensorflow.keras.losses.categorical_crossentropy,\n",
    "              optimizer=tensorflow.keras.optimizers.Adam(),\n",
    "              metrics=['accuracy'])\n",
    "model.summary()"
   ]
  },
  {
   "cell_type": "code",
   "execution_count": 23,
   "metadata": {
    "execution": {
     "iopub.execute_input": "2020-09-17T20:41:36.449056Z",
     "iopub.status.busy": "2020-09-17T20:41:36.448395Z",
     "iopub.status.idle": "2020-09-17T20:42:18.615825Z",
     "shell.execute_reply": "2020-09-17T20:42:18.615111Z"
    },
    "papermill": {
     "duration": 42.213881,
     "end_time": "2020-09-17T20:42:18.615976",
     "exception": false,
     "start_time": "2020-09-17T20:41:36.402095",
     "status": "completed"
    },
    "tags": []
   },
   "outputs": [
    {
     "name": "stdout",
     "output_type": "stream",
     "text": [
      "Train on 48000 samples, validate on 12000 samples\n",
      "Epoch 1/2\n",
      " 3840/48000 [=>............................] - ETA: 3:46 - loss: 1.6346 - acc: 0.4872"
     ]
    },
    {
     "ename": "KeyboardInterrupt",
     "evalue": "",
     "output_type": "error",
     "traceback": [
      "\u001b[1;31m---------------------------------------------------------------------------\u001b[0m",
      "\u001b[1;31mKeyboardInterrupt\u001b[0m                         Traceback (most recent call last)",
      "\u001b[1;32m<ipython-input-23-1e651caffd07>\u001b[0m in \u001b[0;36m<module>\u001b[1;34m\u001b[0m\n\u001b[0;32m      6\u001b[0m           \u001b[0mepochs\u001b[0m\u001b[1;33m=\u001b[0m\u001b[1;36m2\u001b[0m\u001b[1;33m,\u001b[0m\u001b[1;33m\u001b[0m\u001b[0m\n\u001b[0;32m      7\u001b[0m           \u001b[0mverbose\u001b[0m\u001b[1;33m=\u001b[0m\u001b[1;36m1\u001b[0m\u001b[1;33m,\u001b[0m\u001b[1;33m\u001b[0m\u001b[0m\n\u001b[1;32m----> 8\u001b[1;33m           validation_data=(X_val, y_val),callbacks=[early])\n\u001b[0m",
      "\u001b[1;32mC:\\Users\\user\\Anaconda32\\lib\\site-packages\\tensorflow\\python\\keras\\engine\\training.py\u001b[0m in \u001b[0;36mfit\u001b[1;34m(self, x, y, batch_size, epochs, verbose, callbacks, validation_split, validation_data, shuffle, class_weight, sample_weight, initial_epoch, steps_per_epoch, validation_steps, validation_freq, max_queue_size, workers, use_multiprocessing, **kwargs)\u001b[0m\n\u001b[0;32m    778\u001b[0m           \u001b[0mvalidation_steps\u001b[0m\u001b[1;33m=\u001b[0m\u001b[0mvalidation_steps\u001b[0m\u001b[1;33m,\u001b[0m\u001b[1;33m\u001b[0m\u001b[0m\n\u001b[0;32m    779\u001b[0m           \u001b[0mvalidation_freq\u001b[0m\u001b[1;33m=\u001b[0m\u001b[0mvalidation_freq\u001b[0m\u001b[1;33m,\u001b[0m\u001b[1;33m\u001b[0m\u001b[0m\n\u001b[1;32m--> 780\u001b[1;33m           steps_name='steps_per_epoch')\n\u001b[0m\u001b[0;32m    781\u001b[0m \u001b[1;33m\u001b[0m\u001b[0m\n\u001b[0;32m    782\u001b[0m   def evaluate(self,\n",
      "\u001b[1;32mC:\\Users\\user\\Anaconda32\\lib\\site-packages\\tensorflow\\python\\keras\\engine\\training_arrays.py\u001b[0m in \u001b[0;36mmodel_iteration\u001b[1;34m(model, inputs, targets, sample_weights, batch_size, epochs, verbose, callbacks, val_inputs, val_targets, val_sample_weights, shuffle, initial_epoch, steps_per_epoch, validation_steps, validation_freq, mode, validation_in_fit, prepared_feed_values_from_dataset, steps_name, **kwargs)\u001b[0m\n\u001b[0;32m    361\u001b[0m \u001b[1;33m\u001b[0m\u001b[0m\n\u001b[0;32m    362\u001b[0m         \u001b[1;31m# Get outputs.\u001b[0m\u001b[1;33m\u001b[0m\u001b[1;33m\u001b[0m\u001b[0m\n\u001b[1;32m--> 363\u001b[1;33m         \u001b[0mbatch_outs\u001b[0m \u001b[1;33m=\u001b[0m \u001b[0mf\u001b[0m\u001b[1;33m(\u001b[0m\u001b[0mins_batch\u001b[0m\u001b[1;33m)\u001b[0m\u001b[1;33m\u001b[0m\u001b[0m\n\u001b[0m\u001b[0;32m    364\u001b[0m         \u001b[1;32mif\u001b[0m \u001b[1;32mnot\u001b[0m \u001b[0misinstance\u001b[0m\u001b[1;33m(\u001b[0m\u001b[0mbatch_outs\u001b[0m\u001b[1;33m,\u001b[0m \u001b[0mlist\u001b[0m\u001b[1;33m)\u001b[0m\u001b[1;33m:\u001b[0m\u001b[1;33m\u001b[0m\u001b[0m\n\u001b[0;32m    365\u001b[0m           \u001b[0mbatch_outs\u001b[0m \u001b[1;33m=\u001b[0m \u001b[1;33m[\u001b[0m\u001b[0mbatch_outs\u001b[0m\u001b[1;33m]\u001b[0m\u001b[1;33m\u001b[0m\u001b[0m\n",
      "\u001b[1;32mC:\\Users\\user\\Anaconda32\\lib\\site-packages\\tensorflow\\python\\keras\\backend.py\u001b[0m in \u001b[0;36m__call__\u001b[1;34m(self, inputs)\u001b[0m\n\u001b[0;32m   3290\u001b[0m \u001b[1;33m\u001b[0m\u001b[0m\n\u001b[0;32m   3291\u001b[0m     fetched = self._callable_fn(*array_vals,\n\u001b[1;32m-> 3292\u001b[1;33m                                 run_metadata=self.run_metadata)\n\u001b[0m\u001b[0;32m   3293\u001b[0m     \u001b[0mself\u001b[0m\u001b[1;33m.\u001b[0m\u001b[0m_call_fetch_callbacks\u001b[0m\u001b[1;33m(\u001b[0m\u001b[0mfetched\u001b[0m\u001b[1;33m[\u001b[0m\u001b[1;33m-\u001b[0m\u001b[0mlen\u001b[0m\u001b[1;33m(\u001b[0m\u001b[0mself\u001b[0m\u001b[1;33m.\u001b[0m\u001b[0m_fetches\u001b[0m\u001b[1;33m)\u001b[0m\u001b[1;33m:\u001b[0m\u001b[1;33m]\u001b[0m\u001b[1;33m)\u001b[0m\u001b[1;33m\u001b[0m\u001b[0m\n\u001b[0;32m   3294\u001b[0m     output_structure = nest.pack_sequence_as(\n",
      "\u001b[1;32mC:\\Users\\user\\Anaconda32\\lib\\site-packages\\tensorflow\\python\\client\\session.py\u001b[0m in \u001b[0;36m__call__\u001b[1;34m(self, *args, **kwargs)\u001b[0m\n\u001b[0;32m   1456\u001b[0m         ret = tf_session.TF_SessionRunCallable(self._session._session,\n\u001b[0;32m   1457\u001b[0m                                                \u001b[0mself\u001b[0m\u001b[1;33m.\u001b[0m\u001b[0m_handle\u001b[0m\u001b[1;33m,\u001b[0m \u001b[0margs\u001b[0m\u001b[1;33m,\u001b[0m\u001b[1;33m\u001b[0m\u001b[0m\n\u001b[1;32m-> 1458\u001b[1;33m                                                run_metadata_ptr)\n\u001b[0m\u001b[0;32m   1459\u001b[0m         \u001b[1;32mif\u001b[0m \u001b[0mrun_metadata\u001b[0m\u001b[1;33m:\u001b[0m\u001b[1;33m\u001b[0m\u001b[0m\n\u001b[0;32m   1460\u001b[0m           \u001b[0mproto_data\u001b[0m \u001b[1;33m=\u001b[0m \u001b[0mtf_session\u001b[0m\u001b[1;33m.\u001b[0m\u001b[0mTF_GetBuffer\u001b[0m\u001b[1;33m(\u001b[0m\u001b[0mrun_metadata_ptr\u001b[0m\u001b[1;33m)\u001b[0m\u001b[1;33m\u001b[0m\u001b[0m\n",
      "\u001b[1;31mKeyboardInterrupt\u001b[0m: "
     ]
    }
   ],
   "source": [
    "early = EarlyStopping(monitor='val_loss', mode='min', verbose=1, patience=5)\n",
    "callback = LearningRateScheduler(scheduler)\n",
    "\n",
    "output = model.fit(X_train, y_train,\n",
    "          batch_size=batch_size,\n",
    "          epochs=2,\n",
    "          verbose=1,\n",
    "          validation_data=(X_val, y_val),callbacks=[early])"
   ]
  },
  {
   "cell_type": "code",
   "execution_count": null,
   "metadata": {
    "execution": {
     "iopub.execute_input": "2020-09-17T20:42:19.192717Z",
     "iopub.status.busy": "2020-09-17T20:42:19.185013Z",
     "iopub.status.idle": "2020-09-17T20:42:19.535203Z",
     "shell.execute_reply": "2020-09-17T20:42:19.534626Z"
    },
    "papermill": {
     "duration": 0.636795,
     "end_time": "2020-09-17T20:42:19.535328",
     "exception": false,
     "start_time": "2020-09-17T20:42:18.898533",
     "status": "completed"
    },
    "tags": []
   },
   "outputs": [],
   "source": [
    "plt.figure(figsize=(6,3))\n",
    "#history of accuracy\n",
    "plt.plot(output.history['acc'])\n",
    "plt.plot(output.history['val_acc'])\n",
    "plt.title('classifier accuracy')\n",
    "plt.ylabel('accuracy')\n",
    "plt.xlabel('epoch')\n",
    "plt.legend(['train', 'test'], loc='upper left')\n",
    "plt.show()\n",
    "# summarize history for loss\n",
    "plt.figure(figsize=(6,3))\n",
    "plt.plot(output.history['loss'])\n",
    "plt.plot(output.history['val_loss'])\n",
    "plt.title('classifier loss')\n",
    "plt.ylabel('loss')\n",
    "plt.xlabel('epoch')\n",
    "plt.legend(['train', 'test'], loc='upper left')\n",
    "plt.show()"
   ]
  },
  {
   "cell_type": "code",
   "execution_count": null,
   "metadata": {
    "execution": {
     "iopub.execute_input": "2020-09-17T20:42:20.161387Z",
     "iopub.status.busy": "2020-09-17T20:42:20.160157Z",
     "iopub.status.idle": "2020-09-17T20:42:24.614135Z",
     "shell.execute_reply": "2020-09-17T20:42:24.614995Z"
    },
    "papermill": {
     "duration": 4.780603,
     "end_time": "2020-09-17T20:42:24.615191",
     "exception": false,
     "start_time": "2020-09-17T20:42:19.834588",
     "status": "completed"
    },
    "tags": []
   },
   "outputs": [],
   "source": [
    "score = model.evaluate(X_test, y_test, verbose=0)\n",
    "print('Test loss:', score[0])\n",
    "print('Test accuracy:', score[1])"
   ]
  },
  {
   "cell_type": "code",
   "execution_count": null,
   "metadata": {
    "execution": {
     "iopub.execute_input": "2020-09-17T20:42:25.187322Z",
     "iopub.status.busy": "2020-09-17T20:42:25.185493Z",
     "iopub.status.idle": "2020-09-17T20:42:25.344516Z",
     "shell.execute_reply": "2020-09-17T20:42:25.345158Z"
    },
    "papermill": {
     "duration": 0.452122,
     "end_time": "2020-09-17T20:42:25.345333",
     "exception": false,
     "start_time": "2020-09-17T20:42:24.893211",
     "status": "completed"
    },
    "tags": []
   },
   "outputs": [],
   "source": [
    "plt.imshow(not_blurry_x[10].reshape(28,28));"
   ]
  },
  {
   "cell_type": "code",
   "execution_count": null,
   "metadata": {
    "execution": {
     "iopub.execute_input": "2020-09-17T20:42:25.942828Z",
     "iopub.status.busy": "2020-09-17T20:42:25.941746Z",
     "iopub.status.idle": "2020-09-17T20:42:26.099782Z",
     "shell.execute_reply": "2020-09-17T20:42:26.100368Z"
    },
    "papermill": {
     "duration": 0.444546,
     "end_time": "2020-09-17T20:42:26.100566",
     "exception": false,
     "start_time": "2020-09-17T20:42:25.656020",
     "status": "completed"
    },
    "tags": []
   },
   "outputs": [],
   "source": [
    "for i in range(blurry_x.shape[0]):\n",
    "    img = blurry_x[i]\n",
    "    img = img.astype('float32')\n",
    "    img = np.reshape(img,(28,28))\n",
    "    img = cv2.GaussianBlur(img,(5,5),1)\n",
    "    img = img.reshape(28,28,1)\n",
    "    blurry_x[i] = img\n",
    "    \n",
    "plt.imshow(blurry_x[10].reshape(28,28));"
   ]
  },
  {
   "cell_type": "code",
   "execution_count": null,
   "metadata": {
    "execution": {
     "iopub.execute_input": "2020-09-17T20:42:26.697125Z",
     "iopub.status.busy": "2020-09-17T20:42:26.696193Z",
     "iopub.status.idle": "2020-09-17T20:42:26.869792Z",
     "shell.execute_reply": "2020-09-17T20:42:26.870368Z"
    },
    "papermill": {
     "duration": 0.464045,
     "end_time": "2020-09-17T20:42:26.870535",
     "exception": false,
     "start_time": "2020-09-17T20:42:26.406490",
     "status": "completed"
    },
    "tags": []
   },
   "outputs": [],
   "source": [
    "for i in range(not_blurry_x.shape[0]):\n",
    "    img = preprocessing(not_blurry_x[i].reshape(28,28))\n",
    "    img = img.reshape(28,28,1)\n",
    "    not_blurry_x[i] = img\n",
    "    \n",
    "plt.imshow(not_blurry_x[10].reshape(28,28));"
   ]
  },
  {
   "cell_type": "code",
   "execution_count": null,
   "metadata": {
    "execution": {
     "iopub.execute_input": "2020-09-17T20:42:27.481695Z",
     "iopub.status.busy": "2020-09-17T20:42:27.480719Z",
     "iopub.status.idle": "2020-09-17T20:42:27.550594Z",
     "shell.execute_reply": "2020-09-17T20:42:27.549843Z"
    },
    "papermill": {
     "duration": 0.365165,
     "end_time": "2020-09-17T20:42:27.550738",
     "exception": false,
     "start_time": "2020-09-17T20:42:27.185573",
     "status": "completed"
    },
    "tags": []
   },
   "outputs": [],
   "source": [
    "score = model.evaluate(not_blurry_x/255., test_y, verbose=0)\n",
    "print('Test loss:', score[0])\n",
    "print('Test accuracy:', score[1])"
   ]
  },
  {
   "cell_type": "code",
   "execution_count": null,
   "metadata": {
    "execution": {
     "iopub.execute_input": "2020-09-17T20:42:28.121625Z",
     "iopub.status.busy": "2020-09-17T20:42:28.120889Z",
     "iopub.status.idle": "2020-09-17T20:42:28.125023Z",
     "shell.execute_reply": "2020-09-17T20:42:28.125826Z"
    },
    "papermill": {
     "duration": 0.294247,
     "end_time": "2020-09-17T20:42:28.125997",
     "exception": false,
     "start_time": "2020-09-17T20:42:27.831750",
     "status": "completed"
    },
    "tags": []
   },
   "outputs": [],
   "source": [
    "#plt.imshow(blurry_x[10].reshape(28,28));"
   ]
  },
  {
   "cell_type": "code",
   "execution_count": null,
   "metadata": {
    "execution": {
     "iopub.execute_input": "2020-09-17T20:42:28.751986Z",
     "iopub.status.busy": "2020-09-17T20:42:28.751135Z",
     "iopub.status.idle": "2020-09-17T20:42:28.769594Z",
     "shell.execute_reply": "2020-09-17T20:42:28.768938Z"
    },
    "papermill": {
     "duration": 0.311562,
     "end_time": "2020-09-17T20:42:28.769706",
     "exception": false,
     "start_time": "2020-09-17T20:42:28.458144",
     "status": "completed"
    },
    "tags": []
   },
   "outputs": [],
   "source": [
    "for i in range(blurry_x.shape[0]):\n",
    "    img = preprocessing(blurry_x[i].reshape(28,28))\n",
    "    img = img.reshape(28,28,1)\n",
    "    blurry_x[i] = img"
   ]
  },
  {
   "cell_type": "code",
   "execution_count": null,
   "metadata": {
    "execution": {
     "iopub.execute_input": "2020-09-17T20:42:29.354745Z",
     "iopub.status.busy": "2020-09-17T20:42:29.352821Z",
     "iopub.status.idle": "2020-09-17T20:42:29.510271Z",
     "shell.execute_reply": "2020-09-17T20:42:29.509644Z"
    },
    "papermill": {
     "duration": 0.453409,
     "end_time": "2020-09-17T20:42:29.510399",
     "exception": false,
     "start_time": "2020-09-17T20:42:29.056990",
     "status": "completed"
    },
    "tags": []
   },
   "outputs": [],
   "source": [
    "plt.imshow(blurry_x[10].reshape(28,28));"
   ]
  },
  {
   "cell_type": "code",
   "execution_count": null,
   "metadata": {
    "execution": {
     "iopub.execute_input": "2020-09-17T20:42:30.119963Z",
     "iopub.status.busy": "2020-09-17T20:42:30.118334Z",
     "iopub.status.idle": "2020-09-17T20:42:30.178416Z",
     "shell.execute_reply": "2020-09-17T20:42:30.178991Z"
    },
    "papermill": {
     "duration": 0.35757,
     "end_time": "2020-09-17T20:42:30.179201",
     "exception": false,
     "start_time": "2020-09-17T20:42:29.821631",
     "status": "completed"
    },
    "tags": []
   },
   "outputs": [],
   "source": [
    "score = model.evaluate(blurry_x/255., test_y, verbose=0)\n",
    "print('Test loss:', score[0])\n",
    "print('Test accuracy:', score[1])"
   ]
  },
  {
   "cell_type": "code",
   "execution_count": null,
   "metadata": {
    "execution": {
     "iopub.execute_input": "2020-09-17T20:42:30.765333Z",
     "iopub.status.busy": "2020-09-17T20:42:30.764369Z",
     "iopub.status.idle": "2020-09-17T20:42:30.826454Z",
     "shell.execute_reply": "2020-09-17T20:42:30.825863Z"
    },
    "papermill": {
     "duration": 0.363666,
     "end_time": "2020-09-17T20:42:30.826574",
     "exception": false,
     "start_time": "2020-09-17T20:42:30.462908",
     "status": "completed"
    },
    "tags": []
   },
   "outputs": [],
   "source": [
    "#save model\n",
    "model.save(r'C:\\Users\\user\\Desktop\\model.h5')"
   ]
  },
  {
   "cell_type": "code",
   "execution_count": null,
   "metadata": {
    "execution": {
     "iopub.execute_input": "2020-09-17T20:42:31.409056Z",
     "iopub.status.busy": "2020-09-17T20:42:31.407834Z",
     "iopub.status.idle": "2020-09-17T20:42:31.719464Z",
     "shell.execute_reply": "2020-09-17T20:42:31.717953Z"
    },
    "papermill": {
     "duration": 0.615337,
     "end_time": "2020-09-17T20:42:31.719594",
     "exception": false,
     "start_time": "2020-09-17T20:42:31.104257",
     "status": "completed"
    },
    "tags": []
   },
   "outputs": [],
   "source": [
    "# load model\n",
    "model = load_model('model.h5')"
   ]
  },
  {
   "cell_type": "code",
   "execution_count": null,
   "metadata": {
    "execution": {
     "iopub.execute_input": "2020-09-17T20:42:32.292224Z",
     "iopub.status.busy": "2020-09-17T20:42:32.289597Z",
     "iopub.status.idle": "2020-09-17T20:42:32.305702Z",
     "shell.execute_reply": "2020-09-17T20:42:32.306680Z"
    },
    "papermill": {
     "duration": 0.303998,
     "end_time": "2020-09-17T20:42:32.307116",
     "exception": false,
     "start_time": "2020-09-17T20:42:32.003118",
     "status": "completed"
    },
    "tags": []
   },
   "outputs": [],
   "source": [
    "# summarize model.\n",
    "model.summary()"
   ]
  },
  {
   "cell_type": "code",
   "execution_count": null,
   "metadata": {
    "execution": {
     "iopub.execute_input": "2020-09-17T20:42:33.093295Z",
     "iopub.status.busy": "2020-09-17T20:42:33.092166Z",
     "iopub.status.idle": "2020-09-17T20:42:33.330281Z",
     "shell.execute_reply": "2020-09-17T20:42:33.329130Z"
    },
    "papermill": {
     "duration": 0.608128,
     "end_time": "2020-09-17T20:42:33.330412",
     "exception": false,
     "start_time": "2020-09-17T20:42:32.722284",
     "status": "completed"
    },
    "tags": []
   },
   "outputs": [],
   "source": [
    "score = model.evaluate(blurry_x/255., test_y, verbose=0)\n",
    "print('Test loss:', score[0])\n",
    "print('Test accuracy:', score[1])"
   ]
  },
  {
   "cell_type": "code",
   "execution_count": null,
   "metadata": {
    "papermill": {
     "duration": 0.280479,
     "end_time": "2020-09-17T20:42:33.893023",
     "exception": false,
     "start_time": "2020-09-17T20:42:33.612544",
     "status": "completed"
    },
    "tags": []
   },
   "outputs": [],
   "source": []
  },
  {
   "cell_type": "code",
   "execution_count": null,
   "metadata": {
    "papermill": {
     "duration": 0.285433,
     "end_time": "2020-09-17T20:42:34.464369",
     "exception": false,
     "start_time": "2020-09-17T20:42:34.178936",
     "status": "completed"
    },
    "tags": []
   },
   "outputs": [],
   "source": [
    "#from tensorflow.keras.applications import decode_predictions"
   ]
  },
  {
   "cell_type": "code",
   "execution_count": null,
   "metadata": {},
   "outputs": [],
   "source": []
  }
 ],
 "metadata": {
  "kernelspec": {
   "display_name": "Python 3",
   "language": "python",
   "name": "python3"
  },
  "language_info": {
   "codemirror_mode": {
    "name": "ipython",
    "version": 3
   },
   "file_extension": ".py",
   "mimetype": "text/x-python",
   "name": "python",
   "nbconvert_exporter": "python",
   "pygments_lexer": "ipython3",
   "version": "3.6.5"
  },
  "papermill": {
   "duration": 111.192357,
   "end_time": "2020-09-17T20:42:36.401983",
   "environment_variables": {},
   "exception": null,
   "input_path": "__notebook__.ipynb",
   "output_path": "__notebook__.ipynb",
   "parameters": {},
   "start_time": "2020-09-17T20:40:45.209626",
   "version": "2.1.0"
  }
 },
 "nbformat": 4,
 "nbformat_minor": 4
}
